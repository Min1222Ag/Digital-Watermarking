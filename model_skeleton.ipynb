{
  "nbformat": 4,
  "nbformat_minor": 0,
  "metadata": {
    "colab": {
      "provenance": [],
      "authorship_tag": "ABX9TyPs/Ev3THKfN74p22PNN7Ck",
      "include_colab_link": true
    },
    "kernelspec": {
      "name": "python3",
      "display_name": "Python 3"
    },
    "language_info": {
      "name": "python"
    }
  },
  "cells": [
    {
      "cell_type": "markdown",
      "metadata": {
        "id": "view-in-github",
        "colab_type": "text"
      },
      "source": [
        "<a href=\"https://colab.research.google.com/github/Min1222Ag/Digital-Watermarking/blob/model_architecture/model_skeleton.ipynb\" target=\"_parent\"><img src=\"https://colab.research.google.com/assets/colab-badge.svg\" alt=\"Open In Colab\"/></a>"
      ]
    },
    {
      "cell_type": "markdown",
      "source": [
        "# Text Detection via YOLO"
      ],
      "metadata": {
        "id": "bKgz-1nnxRoN"
      }
    },
    {
      "cell_type": "markdown",
      "source": [
        "YOLO의 출력값을 bounding box의 좌표값(x_min,x_max,y_min,y_max)로 출력하도록 조정"
      ],
      "metadata": {
        "id": "qI0-Lf5z_atn"
      }
    },
    {
      "cell_type": "code",
      "source": [
        "!pip install torch torchvision torchaudio\n",
        "!pip install numpy matplotlib opencv-python Pillow pyyaml\n",
        "\n",
        "# clone YOLOv5 repository\n",
        "!git clone https://github.com/ultralytics/yolov5\n",
        "%cd yolov5\n",
        "!pip install -r requirements.txt  # install requirements"
      ],
      "metadata": {
        "id": "YM5FtVn-a6A2"
      },
      "execution_count": null,
      "outputs": []
    },
    {
      "cell_type": "code",
      "source": [
        "from google.colab import files\n",
        "import os\n",
        "\n",
        "# upload data\n",
        "uploaded = files.upload()"
      ],
      "metadata": {
        "id": "2T-Uk2sjb4YO"
      },
      "execution_count": null,
      "outputs": []
    },
    {
      "cell_type": "code",
      "source": [
        "# 업로드된 파일을 훈련, 검증, 테스트 디렉토리로 분류\n",
        "os.makedirs('/content/dataset/images/train', exist_ok=True)\n",
        "os.makedirs('/content/dataset/images/val', exist_ok=True)\n",
        "os.makedirs('/content/dataset/images/test', exist_ok=True)\n",
        "os.makedirs('/content/dataset/labels/train', exist_ok=True)\n",
        "os.makedirs('/content/dataset/labels/val', exist_ok=True)\n",
        "os.makedirs('/content/dataset/labels/test', exist_ok=True)\n",
        "\n",
        "# 예를 들어, 모든 이미지와 라벨이 한 폴더로 업로드된 것으로 가정하고 분류\n",
        "# 실제 사용시 파일 명을 확인하여 분류 필요\n",
        "import shutil\n",
        "from sklearn.model_selection import train_test_split\n",
        "\n",
        "# 파일 경로 목록 생성\n",
        "image_paths = [x for x in uploaded.keys() if x.endswith('.jpg')]\n",
        "label_paths = [x.replace('.jpg', '.txt') for x in image_paths]\n",
        "\n",
        "# 훈련, 검증, 테스트 분할\n",
        "train_files, val_files = train_test_split(list(zip(image_paths, label_paths)), test_size=0.2, random_state=42)\n",
        "train_files, test_files = train_test_split(train_files, test_size=0.1, random_state=42)\n",
        "\n",
        "# 파일을 적절한 폴더로 이동\n",
        "def move_files(file_list, split_type):\n",
        "    for img, label in file_list:\n",
        "        shutil.move(img, f'/content/dataset/images/{split_type}/{img}')\n",
        "        shutil.move(label, f'/content/dataset/labels/{split_type}/{label}')\n",
        "\n",
        "move_files(train_files, 'train')\n",
        "move_files(val_files, 'val')\n",
        "move_files(test_files, 'test')\n"
      ],
      "metadata": {
        "id": "532sot9sa4bY"
      },
      "execution_count": null,
      "outputs": []
    },
    {
      "cell_type": "code",
      "source": [
        "data_yaml = f\"\"\"\n",
        "train: /content/dataset/images/train\n",
        "val: /content/dataset/images/val\n",
        "test: /content/dataset/images/test\n",
        "\n",
        "nc: 3\n",
        "names: ['class1', 'class2', 'class3']\n",
        "\"\"\"\n",
        "\n",
        "with open('/content/yolov5/data/dataset.yaml', 'w') as f:\n",
        "    f.write(data_yaml)"
      ],
      "metadata": {
        "id": "QgPUFg3LPsXM"
      },
      "execution_count": null,
      "outputs": []
    },
    {
      "cell_type": "code",
      "source": [
        "%cd /content/yolov5\n",
        "\n",
        "# 훈련 파라미터 설정\n",
        "# --img: 입력 이미지 크기\n",
        "# --batch: 배치 사이즈\n",
        "# --epochs: 훈련 에포크 수\n",
        "# --data: 데이터셋 설정 파일 경로\n",
        "# --weights: 초기 가중치 파일 (여기서는 YOLOv5s 모델을 기반으로 시작)\n",
        "# --cache: 이미지 캐시를 사용하여 훈련 속도 향상\n",
        "# --patience: early stopping을 위한 인내심 값 (성능 개선이 없는 경우 훈련 중단)\n",
        "# --img: 모델에 입력할 이미지의 크기\n",
        "# --rect: 직사각형 훈련 사용 (비사각형 이미지에 유리)\n",
        "# --multi-scale: 다양한 이미지 크기로 훈련을 진행하여 일반화 성능 향상\n",
        "# --label-smoothing: 라벨 스무딩 적용 옵션 (과적합 방지)\n",
        "\n",
        "!python train.py --img 640 --batch 16 --epochs 50 --data data/dataset.yaml --weights yolov5s.pt --cache --patience 7 --img 640 --rect --multi-scale --label-smoothing 0.1\n",
        "\n"
      ],
      "metadata": {
        "id": "TsZ9V0ZqPuPw"
      },
      "execution_count": null,
      "outputs": []
    },
    {
      "cell_type": "code",
      "source": [
        "import torch\n",
        "from PIL import Image\n",
        "import cv2\n",
        "from IPython.display import display\n",
        "\n",
        "# 훈련된 모델 로드\n",
        "model = torch.hub.load('ultralytics/yolov5', 'custom', path='/content/yolov5/runs/train/exp/weights/best.pt', force_reload=True)\n",
        "\n",
        "# 이미지 로드 및 예측 실행\n",
        "img_path = '/content/sample_data/image.png'\n",
        "results = model(img_path)\n",
        "\n",
        "# 결과 출력\n",
        "results.show()\n",
        "\n",
        "# 바운딩 박스 추출\n",
        "bboxes = results.xyxy[0]  # 바운딩 박스: [x_min, y_min, x_max, y_max, confidence, class]\n",
        "\n",
        "# 워터마크 삽입 함수\n",
        "def apply_watermark(image_path, bbox, watermark_text=\"Watermark\"):\n",
        "    image = cv2.imread(image_path)\n",
        "    for (x_min, y_min, x_max, y_max, _, _) in bbox:\n",
        "        x_min, y_min, x_max, y_max = map(int, [x_min, y_min, x_max, y_max])\n",
        "        roi = image[y_min:y_max, x_min:x_max]\n",
        "        cv2.putText(roi, watermark_text, (10, 50), cv2.FONT_HERSHEY_SIMPLEX, 1, (255,255,255), 2, cv2.LINE_AA)\n",
        "        image[y_min:y_max, x_min:x_max] = roi\n",
        "    cv2.imwrite('watermarked_image.png', image)\n",
        "    display(Image.open('watermarked_image.png'))\n",
        "\n",
        "# 워터마크 적용\n",
        "apply_watermark(img_path, bboxes)"
      ],
      "metadata": {
        "id": "9t7vlBn7Pvh8"
      },
      "execution_count": null,
      "outputs": []
    }
  ]
}