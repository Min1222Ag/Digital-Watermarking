{
  "cells": [
    {
      "cell_type": "code",
      "execution_count": null,
      "metadata": {
        "colab": {
          "base_uri": "https://localhost:8080/"
        },
        "id": "2XYTO2Axwfjw",
        "outputId": "7616cc9b-609f-4279-bfbc-f3c796200569"
      },
      "outputs": [
        {
          "output_type": "stream",
          "name": "stdout",
          "text": [
            "Drive already mounted at /content/drive; to attempt to forcibly remount, call drive.mount(\"/content/drive\", force_remount=True).\n"
          ]
        }
      ],
      "source": [
        "from google.colab import drive\n",
        "drive.mount('/content/drive')"
      ]
    },
    {
      "cell_type": "code",
      "execution_count": null,
      "metadata": {
        "collapsed": true,
        "id": "GcI6uKLTz6K-"
      },
      "outputs": [],
      "source": [
        "import os\n",
        "import cv2\n",
        "import numpy as np\n",
        "import torch"
      ]
    },
    {
      "cell_type": "code",
      "execution_count": null,
      "metadata": {
        "collapsed": true,
        "id": "knlWtrDqNmRa"
      },
      "outputs": [],
      "source": [
        "# YOLOv5 레포지토리 클론\n",
        "!git clone https://github.com/ultralytics/yolov5"
      ]
    },
    {
      "cell_type": "code",
      "execution_count": null,
      "metadata": {
        "collapsed": true,
        "id": "QYdOiQ1xIbvW"
      },
      "outputs": [],
      "source": [
        "# 필요한 라이브러리 설치\n",
        "!pip install -U -r yolov5/requirements.txt"
      ]
    },
    {
      "cell_type": "code",
      "execution_count": null,
      "metadata": {
        "collapsed": true,
        "id": "fS7VIHt3KlDv"
      },
      "outputs": [],
      "source": [
        "# 실제 학습 코드\n",
        "!python yolov5/train.py --img 640 --batch 32 --epochs 70 --data drive/MyDrive/Capstone/dataset/dataset.yaml --weights yolov5s.pt"
      ]
    },
    {
      "cell_type": "code",
      "execution_count": null,
      "metadata": {
        "id": "16NXd3DlKuSk",
        "collapsed": true
      },
      "outputs": [],
      "source": [
        "# 학습 완료 후 모델 로드\n",
        "model = torch.hub.load('yolov5', 'custom', path='/content/yolov5/runs/train/exp/weights/best.pt', source='local')"
      ]
    },
    {
      "cell_type": "code",
      "execution_count": null,
      "metadata": {
        "id": "wdish1psfUYA"
      },
      "outputs": [],
      "source": [
        "# 이미지 파일이 있는 폴더 경로\n",
        "folder_path = '/content/drive/MyDrive/Capstone/example/'\n",
        "\n",
        "# 이미지 파일 리스트 가져오기\n",
        "image_files = [f for f in os.listdir(folder_path) if f.endswith(('.jpg', '.png'))]\n",
        "\n",
        "# 이미지 파일 수만큼 루프 돌기\n",
        "for image_file in image_files:\n",
        "    # 이미지 파일 경로\n",
        "    image_path = os.path.join(folder_path, image_file)"
      ]
    },
    {
      "cell_type": "code",
      "execution_count": null,
      "metadata": {
        "colab": {
          "background_save": true
        },
        "id": "xxCgYQcduWjn",
        "collapsed": true
      },
      "outputs": [],
      "source": [
        "import matplotlib.pyplot as plt\n",
        "\n",
        "# 이미지 폴더 경로\n",
        "folder_path = '/content/drive/MyDrive/Capstone/example/'\n",
        "\n",
        "# 이미지 파일 이름 리스트 생성\n",
        "image_files = [f'{i//10 + 1}-{i%10 + 1}.png' for i in range(20)]\n",
        "\n",
        "# 이미지 파일 경로 리스트 생성\n",
        "image_paths = [os.path.join(folder_path, img_file) for img_file in image_files]\n",
        "\n",
        "# 이미지 읽고 YOLOv5 모델 적용 후 시각화\n",
        "for img_path, img_file in zip(image_paths, image_files):\n",
        "    # 이미지 로드\n",
        "    img = os.path.join(folder_path, img_file)\n",
        "\n",
        "    # 모델 적용\n",
        "    results = model(img)\n",
        "\n",
        "    # 결과 시각화\n",
        "    results.show()"
      ]
    },
    {
      "cell_type": "code",
      "source": [
        "# 데이터셋 경로 설정 (dataset.yaml 파일 사용)\n",
        "data_path = '/content/drive/MyDrive/Capstone/dataset/dataset.yaml'"
      ],
      "metadata": {
        "id": "K6_-6oIrHHPh"
      },
      "execution_count": null,
      "outputs": []
    },
    {
      "cell_type": "code",
      "source": [
        "# 성능 평가\n",
        "!python yolov5/val.py --weights $model_path --data $data_path --img 640 --iou 0.5 --task val"
      ],
      "metadata": {
        "colab": {
          "base_uri": "https://localhost:8080/"
        },
        "id": "Zfk8Z-oSGqR6",
        "outputId": "d52aa21e-646a-4a75-a101-ebb9a4dbc572"
      },
      "execution_count": null,
      "outputs": [
        {
          "output_type": "stream",
          "name": "stdout",
          "text": [
            "\u001b[34m\u001b[1mval: \u001b[0mdata=/content/drive/MyDrive/Capstone/dataset/dataset.yaml, weights=['/content/drive/MyDrive/Capstone/runs/train/exp/weights/best.pt'], batch_size=32, imgsz=640, conf_thres=0.001, iou_thres=0.5, max_det=300, task=val, device=, workers=8, single_cls=False, augment=False, verbose=False, save_txt=False, save_hybrid=False, save_conf=False, save_json=False, project=yolov5/runs/val, name=exp, exist_ok=False, half=False, dnn=False\n",
            "YOLOv5 🚀 v7.0-318-gc0380fd8 Python-3.10.12 torch-2.3.0+cu121 CUDA:0 (Tesla T4, 15102MiB)\n",
            "\n",
            "Fusing layers... \n",
            "Model summary: 157 layers, 7015519 parameters, 0 gradients, 15.8 GFLOPs\n",
            "Downloading https://ultralytics.com/assets/Arial.ttf to /root/.config/Ultralytics/Arial.ttf...\n",
            "100% 755k/755k [00:00<00:00, 44.8MB/s]\n",
            "\u001b[34m\u001b[1mval: \u001b[0mScanning /content/drive/MyDrive/Capstone/dataset/val/labels.cache... 670 images, 0 backgrounds, 0 corrupt: 100% 670/670 [00:00<?, ?it/s]\n",
            "                 Class     Images  Instances          P          R      mAP50   mAP50-95: 100% 21/21 [00:30<00:00,  1.44s/it]\n",
            "                   all        670       2530       0.94      0.929      0.966       0.81\n",
            "                     0        670       1484      0.957      0.965       0.99      0.909\n",
            "                     1        670       1046      0.923      0.894      0.941      0.712\n",
            "Speed: 0.3ms pre-process, 7.8ms inference, 4.9ms NMS per image at shape (32, 3, 640, 640)\n",
            "Results saved to \u001b[1myolov5/runs/val/exp\u001b[0m\n"
          ]
        }
      ]
    }
  ],
  "metadata": {
    "accelerator": "GPU",
    "colab": {
      "gpuType": "T4",
      "provenance": [],
      "mount_file_id": "1IAYFe2AkJggLjVFDWG-hYpcUZb34AKgn",
      "authorship_tag": "ABX9TyPMVTcxxg7RgR1GqdovvLG5"
    },
    "kernelspec": {
      "display_name": "Python 3",
      "name": "python3"
    },
    "language_info": {
      "name": "python"
    }
  },
  "nbformat": 4,
  "nbformat_minor": 0
}