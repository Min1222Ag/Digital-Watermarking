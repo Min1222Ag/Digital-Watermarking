{
  "cells": [
    {
      "cell_type": "code",
      "execution_count": null,
      "metadata": {
        "id": "2XYTO2Axwfjw",
        "colab": {
          "base_uri": "https://localhost:8080/"
        },
        "outputId": "3a2e27c4-363a-4948-8bae-b64c728b7e87"
      },
      "outputs": [
        {
          "output_type": "stream",
          "name": "stdout",
          "text": [
            "Drive already mounted at /content/drive; to attempt to forcibly remount, call drive.mount(\"/content/drive\", force_remount=True).\n"
          ]
        }
      ],
      "source": [
        "from google.colab import drive\n",
        "drive.mount('/content/drive')"
      ]
    },
    {
      "cell_type": "code",
      "execution_count": null,
      "metadata": {
        "collapsed": true,
        "id": "GcI6uKLTz6K-"
      },
      "outputs": [],
      "source": [
        "import os\n",
        "import cv2\n",
        "import numpy as np\n",
        "import torch\n",
        "\n",
        "import hashlib\n",
        "from datetime import datetime\n",
        "from PIL import Image\n",
        "from PIL.ExifTags import TAGS"
      ]
    },
    {
      "cell_type": "code",
      "execution_count": null,
      "metadata": {
        "collapsed": true,
        "id": "knlWtrDqNmRa",
        "colab": {
          "base_uri": "https://localhost:8080/"
        },
        "outputId": "e652bd49-4c15-4d3b-977b-fc7257577ab6"
      },
      "outputs": [
        {
          "output_type": "stream",
          "name": "stdout",
          "text": [
            "fatal: destination path 'yolov5' already exists and is not an empty directory.\n"
          ]
        }
      ],
      "source": [
        "# YOLOv5 레포지토리 클론\n",
        "!git clone https://github.com/ultralytics/yolov5"
      ]
    },
    {
      "cell_type": "code",
      "execution_count": null,
      "metadata": {
        "collapsed": true,
        "id": "QYdOiQ1xIbvW",
        "colab": {
          "base_uri": "https://localhost:8080/"
        },
        "outputId": "1d2825f7-7728-4a8f-a378-2f8301849975"
      },
      "outputs": [
        {
          "output_type": "stream",
          "name": "stdout",
          "text": [
            "Requirement already satisfied: gitpython>=3.1.30 in /usr/local/lib/python3.10/dist-packages (from -r yolov5/requirements.txt (line 5)) (3.1.43)\n",
            "Requirement already satisfied: matplotlib>=3.3 in /usr/local/lib/python3.10/dist-packages (from -r yolov5/requirements.txt (line 6)) (3.9.0)\n",
            "Requirement already satisfied: numpy>=1.23.5 in /usr/local/lib/python3.10/dist-packages (from -r yolov5/requirements.txt (line 7)) (1.26.4)\n",
            "Requirement already satisfied: opencv-python>=4.1.1 in /usr/local/lib/python3.10/dist-packages (from -r yolov5/requirements.txt (line 8)) (4.9.0.80)\n",
            "Requirement already satisfied: pillow>=10.3.0 in /usr/local/lib/python3.10/dist-packages (from -r yolov5/requirements.txt (line 9)) (10.3.0)\n",
            "Requirement already satisfied: psutil in /usr/local/lib/python3.10/dist-packages (from -r yolov5/requirements.txt (line 10)) (5.9.8)\n",
            "Requirement already satisfied: PyYAML>=5.3.1 in /usr/local/lib/python3.10/dist-packages (from -r yolov5/requirements.txt (line 11)) (6.0.1)\n",
            "Requirement already satisfied: requests>=2.32.0 in /usr/local/lib/python3.10/dist-packages (from -r yolov5/requirements.txt (line 12)) (2.32.3)\n",
            "Requirement already satisfied: scipy>=1.4.1 in /usr/local/lib/python3.10/dist-packages (from -r yolov5/requirements.txt (line 13)) (1.13.1)\n",
            "Requirement already satisfied: thop>=0.1.1 in /usr/local/lib/python3.10/dist-packages (from -r yolov5/requirements.txt (line 14)) (0.1.1.post2209072238)\n",
            "Requirement already satisfied: torch>=1.8.0 in /usr/local/lib/python3.10/dist-packages (from -r yolov5/requirements.txt (line 15)) (2.3.0+cu121)\n",
            "Requirement already satisfied: torchvision>=0.9.0 in /usr/local/lib/python3.10/dist-packages (from -r yolov5/requirements.txt (line 16)) (0.18.0+cu121)\n",
            "Requirement already satisfied: tqdm>=4.64.0 in /usr/local/lib/python3.10/dist-packages (from -r yolov5/requirements.txt (line 17)) (4.66.4)\n",
            "Requirement already satisfied: ultralytics>=8.0.232 in /usr/local/lib/python3.10/dist-packages (from -r yolov5/requirements.txt (line 18)) (8.2.27)\n",
            "Requirement already satisfied: pandas>=1.1.4 in /usr/local/lib/python3.10/dist-packages (from -r yolov5/requirements.txt (line 27)) (2.2.2)\n",
            "Requirement already satisfied: seaborn>=0.11.0 in /usr/local/lib/python3.10/dist-packages (from -r yolov5/requirements.txt (line 28)) (0.13.2)\n",
            "Requirement already satisfied: setuptools>=65.5.1 in /usr/local/lib/python3.10/dist-packages (from -r yolov5/requirements.txt (line 42)) (70.0.0)\n",
            "Requirement already satisfied: wheel>=0.38.0 in /usr/local/lib/python3.10/dist-packages (from -r yolov5/requirements.txt (line 50)) (0.43.0)\n",
            "Requirement already satisfied: gitdb<5,>=4.0.1 in /usr/local/lib/python3.10/dist-packages (from gitpython>=3.1.30->-r yolov5/requirements.txt (line 5)) (4.0.11)\n",
            "Requirement already satisfied: contourpy>=1.0.1 in /usr/local/lib/python3.10/dist-packages (from matplotlib>=3.3->-r yolov5/requirements.txt (line 6)) (1.2.1)\n",
            "Requirement already satisfied: cycler>=0.10 in /usr/local/lib/python3.10/dist-packages (from matplotlib>=3.3->-r yolov5/requirements.txt (line 6)) (0.12.1)\n",
            "Requirement already satisfied: fonttools>=4.22.0 in /usr/local/lib/python3.10/dist-packages (from matplotlib>=3.3->-r yolov5/requirements.txt (line 6)) (4.51.0)\n",
            "Requirement already satisfied: kiwisolver>=1.3.1 in /usr/local/lib/python3.10/dist-packages (from matplotlib>=3.3->-r yolov5/requirements.txt (line 6)) (1.4.5)\n",
            "Requirement already satisfied: packaging>=20.0 in /usr/local/lib/python3.10/dist-packages (from matplotlib>=3.3->-r yolov5/requirements.txt (line 6)) (24.0)\n",
            "Requirement already satisfied: pyparsing>=2.3.1 in /usr/local/lib/python3.10/dist-packages (from matplotlib>=3.3->-r yolov5/requirements.txt (line 6)) (3.1.2)\n",
            "Requirement already satisfied: python-dateutil>=2.7 in /usr/local/lib/python3.10/dist-packages (from matplotlib>=3.3->-r yolov5/requirements.txt (line 6)) (2.8.2)\n",
            "Requirement already satisfied: charset-normalizer<4,>=2 in /usr/local/lib/python3.10/dist-packages (from requests>=2.32.0->-r yolov5/requirements.txt (line 12)) (3.3.2)\n",
            "Requirement already satisfied: idna<4,>=2.5 in /usr/local/lib/python3.10/dist-packages (from requests>=2.32.0->-r yolov5/requirements.txt (line 12)) (3.7)\n",
            "Requirement already satisfied: urllib3<3,>=1.21.1 in /usr/local/lib/python3.10/dist-packages (from requests>=2.32.0->-r yolov5/requirements.txt (line 12)) (2.0.7)\n",
            "Requirement already satisfied: certifi>=2017.4.17 in /usr/local/lib/python3.10/dist-packages (from requests>=2.32.0->-r yolov5/requirements.txt (line 12)) (2024.2.2)\n",
            "Requirement already satisfied: filelock in /usr/local/lib/python3.10/dist-packages (from torch>=1.8.0->-r yolov5/requirements.txt (line 15)) (3.14.0)\n",
            "Requirement already satisfied: typing-extensions>=4.8.0 in /usr/local/lib/python3.10/dist-packages (from torch>=1.8.0->-r yolov5/requirements.txt (line 15)) (4.11.0)\n",
            "Requirement already satisfied: sympy in /usr/local/lib/python3.10/dist-packages (from torch>=1.8.0->-r yolov5/requirements.txt (line 15)) (1.12)\n",
            "Requirement already satisfied: networkx in /usr/local/lib/python3.10/dist-packages (from torch>=1.8.0->-r yolov5/requirements.txt (line 15)) (3.3)\n",
            "Requirement already satisfied: jinja2 in /usr/local/lib/python3.10/dist-packages (from torch>=1.8.0->-r yolov5/requirements.txt (line 15)) (3.1.4)\n",
            "Requirement already satisfied: fsspec in /usr/local/lib/python3.10/dist-packages (from torch>=1.8.0->-r yolov5/requirements.txt (line 15)) (2023.6.0)\n",
            "Requirement already satisfied: nvidia-cuda-nvrtc-cu12==12.1.105 in /usr/local/lib/python3.10/dist-packages (from torch>=1.8.0->-r yolov5/requirements.txt (line 15)) (12.1.105)\n",
            "Requirement already satisfied: nvidia-cuda-runtime-cu12==12.1.105 in /usr/local/lib/python3.10/dist-packages (from torch>=1.8.0->-r yolov5/requirements.txt (line 15)) (12.1.105)\n",
            "Requirement already satisfied: nvidia-cuda-cupti-cu12==12.1.105 in /usr/local/lib/python3.10/dist-packages (from torch>=1.8.0->-r yolov5/requirements.txt (line 15)) (12.1.105)\n",
            "Requirement already satisfied: nvidia-cudnn-cu12==8.9.2.26 in /usr/local/lib/python3.10/dist-packages (from torch>=1.8.0->-r yolov5/requirements.txt (line 15)) (8.9.2.26)\n",
            "Requirement already satisfied: nvidia-cublas-cu12==12.1.3.1 in /usr/local/lib/python3.10/dist-packages (from torch>=1.8.0->-r yolov5/requirements.txt (line 15)) (12.1.3.1)\n",
            "Requirement already satisfied: nvidia-cufft-cu12==11.0.2.54 in /usr/local/lib/python3.10/dist-packages (from torch>=1.8.0->-r yolov5/requirements.txt (line 15)) (11.0.2.54)\n",
            "Requirement already satisfied: nvidia-curand-cu12==10.3.2.106 in /usr/local/lib/python3.10/dist-packages (from torch>=1.8.0->-r yolov5/requirements.txt (line 15)) (10.3.2.106)\n",
            "Requirement already satisfied: nvidia-cusolver-cu12==11.4.5.107 in /usr/local/lib/python3.10/dist-packages (from torch>=1.8.0->-r yolov5/requirements.txt (line 15)) (11.4.5.107)\n",
            "Requirement already satisfied: nvidia-cusparse-cu12==12.1.0.106 in /usr/local/lib/python3.10/dist-packages (from torch>=1.8.0->-r yolov5/requirements.txt (line 15)) (12.1.0.106)\n",
            "Requirement already satisfied: nvidia-nccl-cu12==2.20.5 in /usr/local/lib/python3.10/dist-packages (from torch>=1.8.0->-r yolov5/requirements.txt (line 15)) (2.20.5)\n",
            "Requirement already satisfied: nvidia-nvtx-cu12==12.1.105 in /usr/local/lib/python3.10/dist-packages (from torch>=1.8.0->-r yolov5/requirements.txt (line 15)) (12.1.105)\n",
            "Requirement already satisfied: triton==2.3.0 in /usr/local/lib/python3.10/dist-packages (from torch>=1.8.0->-r yolov5/requirements.txt (line 15)) (2.3.0)\n",
            "Requirement already satisfied: nvidia-nvjitlink-cu12 in /usr/local/lib/python3.10/dist-packages (from nvidia-cusolver-cu12==11.4.5.107->torch>=1.8.0->-r yolov5/requirements.txt (line 15)) (12.5.40)\n",
            "Requirement already satisfied: py-cpuinfo in /usr/local/lib/python3.10/dist-packages (from ultralytics>=8.0.232->-r yolov5/requirements.txt (line 18)) (9.0.0)\n",
            "Requirement already satisfied: pytz>=2020.1 in /usr/local/lib/python3.10/dist-packages (from pandas>=1.1.4->-r yolov5/requirements.txt (line 27)) (2023.4)\n",
            "Requirement already satisfied: tzdata>=2022.7 in /usr/local/lib/python3.10/dist-packages (from pandas>=1.1.4->-r yolov5/requirements.txt (line 27)) (2024.1)\n",
            "Requirement already satisfied: smmap<6,>=3.0.1 in /usr/local/lib/python3.10/dist-packages (from gitdb<5,>=4.0.1->gitpython>=3.1.30->-r yolov5/requirements.txt (line 5)) (5.0.1)\n",
            "Requirement already satisfied: six>=1.5 in /usr/local/lib/python3.10/dist-packages (from python-dateutil>=2.7->matplotlib>=3.3->-r yolov5/requirements.txt (line 6)) (1.16.0)\n",
            "Requirement already satisfied: MarkupSafe>=2.0 in /usr/local/lib/python3.10/dist-packages (from jinja2->torch>=1.8.0->-r yolov5/requirements.txt (line 15)) (2.1.5)\n",
            "Requirement already satisfied: mpmath>=0.19 in /usr/local/lib/python3.10/dist-packages (from sympy->torch>=1.8.0->-r yolov5/requirements.txt (line 15)) (1.3.0)\n"
          ]
        }
      ],
      "source": [
        "# 필요한 라이브러리 설치\n",
        "!pip install -U -r yolov5/requirements.txt"
      ]
    },
    {
      "cell_type": "code",
      "execution_count": null,
      "metadata": {
        "id": "16NXd3DlKuSk",
        "colab": {
          "base_uri": "https://localhost:8080/"
        },
        "outputId": "8af2912c-995b-4576-d050-553c6e4d692e"
      },
      "outputs": [
        {
          "output_type": "stream",
          "name": "stderr",
          "text": [
            "YOLOv5 🚀 v7.0-318-gc0380fd8 Python-3.10.12 torch-2.3.0+cu121 CPU\n",
            "\n",
            "Fusing layers... \n",
            "Model summary: 157 layers, 7015519 parameters, 0 gradients, 15.8 GFLOPs\n",
            "Adding AutoShape... \n"
          ]
        }
      ],
      "source": [
        "model = torch.hub.load('yolov5', 'custom', path='/content/drive/MyDrive/Capstone/runs/train/exp/weights/best.pt', source='local')"
      ]
    },
    {
      "cell_type": "code",
      "execution_count": null,
      "metadata": {
        "id": "1JFnQ2krO9Yg",
        "colab": {
          "base_uri": "https://localhost:8080/"
        },
        "outputId": "d2cc0a5e-4a2d-42f6-e719-775bdd8e46b6"
      },
      "outputs": [
        {
          "output_type": "stream",
          "name": "stdout",
          "text": [
            "Reading package lists... Done\n",
            "Building dependency tree... Done\n",
            "Reading state information... Done\n",
            "libopencv-dev is already the newest version (4.5.4+dfsg-9ubuntu4+jammy0).\n",
            "0 upgraded, 0 newly installed, 0 to remove and 45 not upgraded.\n"
          ]
        }
      ],
      "source": [
        "!apt-get install libopencv-dev"
      ]
    },
    {
      "cell_type": "code",
      "execution_count": null,
      "metadata": {
        "id": "ElsnupfVOSmu",
        "colab": {
          "base_uri": "https://localhost:8080/"
        },
        "outputId": "c06d2c51-15eb-455b-82bf-938018f0a643"
      },
      "outputs": [
        {
          "output_type": "stream",
          "name": "stdout",
          "text": [
            "저작권자명을 입력해주세요: KIM GA-IN\n",
            "대상 이미지 파일 경로를 입력해주세요: /content/drive/MyDrive/Capstone/example/1-1.png\n",
            "워터마크가 적용된 이미지를 저장할 경로를 입력해주세요(확장자 포함): /content/drive/MyDrive/Capstone/result/1-1-test2.png\n",
            "이미지의 생성 날짜와 시간을 YYYY-MM-DD HH:MM:SS 형식으로 입력해주세요: 2024-02-02 02:02:02\n",
            "워터마크 적용이 완료되었습니다.\n"
          ]
        }
      ],
      "source": [
        "import cv2\n",
        "import numpy as np\n",
        "import hashlib\n",
        "from datetime import datetime\n",
        "from PIL import Image\n",
        "from PIL.ExifTags import TAGS\n",
        "\n",
        "# 타겟 원본 이미지 메타데이터에서 생성 날짜 추출 #\n",
        "def get_image_creation_date(image_path):\n",
        "    with Image.open(image_path) as img:\n",
        "        exif_data = img._getexif()\n",
        "        if exif_data is not None:\n",
        "            for tag_id in exif_data:\n",
        "                tag_name = TAGS.get(tag_id, tag_id)\n",
        "                if tag_name == \"DateTimeOriginal\":\n",
        "                    return exif_data[tag_id]\n",
        "        date_input = input(\"이미지의 생성 날짜와 시간을 YYYY-MM-DD HH:MM:SS 형식으로 입력해주세요: \") # 실제로는 메타데이터로 받아옴\n",
        "        return datetime.strptime(date_input, '%Y-%m-%d %H:%M:%S').strftime('%Y-%m-%d %H:%M:%S')\n",
        "\n",
        "# 디지털 워터마크 생성 및 LSB 스테가노그래피 적용 #\n",
        "def apply_watermark_to_bbox(image, bbox, watermark):\n",
        "    x_min, y_min, x_max, y_max, confidence, class_ = bbox\n",
        "\n",
        "    # 바운딩 박스의 너비와 높이 계산\n",
        "    bbox_width = x_max - x_min\n",
        "    bbox_height = y_max - y_min\n",
        "\n",
        "    # 워터마크를 바운딩 박스의 크기에 맞게 조정\n",
        "    scaled_watermark = cv2.resize(watermark, (bbox_width, bbox_height))\n",
        "\n",
        "    # 바운딩 박스의 시작과 끝 좌표 계산\n",
        "    start_x = max(x_min, 0)\n",
        "    start_y = max(y_min, 0)\n",
        "    end_x = min(x_max, image.shape[1])\n",
        "    end_y = min(y_max, image.shape[0])\n",
        "\n",
        "    # 바운딩 박스의 유효한 부분에 워터마크 적용\n",
        "    for i in range(start_y, end_y):\n",
        "        for j in range(start_x, end_x):\n",
        "            pixel = image[i, j]\n",
        "            watermark_pixel = scaled_watermark[i - start_y, j - start_x]\n",
        "            if watermark_pixel.any() != 0:  # 워터마크 픽셀 값이 0이 아닌 경우에만 적용\n",
        "                image[i, j] = watermark_pixel\n",
        "\n",
        "    return image\n",
        "\n",
        "def embed_watermark(author_name, image_path, output_path):\n",
        "    creation_date = get_image_creation_date(image_path) # 원본 이미지 생성 날짜 추출 함수 호출\n",
        "    application_date = datetime.now().strftime('%Y-%m-%d %H:%M:%S') # 디지털 워터마크 적용 날짜 및 시간 추출\n",
        "    watermark_data = f\"{author_name}|{creation_date}|{application_date}\" # main()에서 입력받은 저작권자명 포함 watermark_data 생성\n",
        "\n",
        "    img = cv2.imread(image_path, cv2.IMREAD_COLOR) # 지정된 파일 경로에서 컬러 이미지 읽기\n",
        "    bboxes = [(100, 100, 200, 200, 0.9, 'person')]  # 바운딩 박스 정보 (임시로 예시를 넣었습니다)\n",
        "    watermark = np.random.randint(0, 2, (50, 50, 3), dtype=np.uint8) * 255  # 임의의 워터마크 생성 (50x50 크기의 컬러 이미지)\n",
        "\n",
        "    for bbox in bboxes:\n",
        "        img = apply_watermark_to_bbox(img, bbox, watermark) # 바운딩 박스에 워터마크 적용\n",
        "\n",
        "    cv2.imwrite(output_path, img) # 최종적으로 워터마크가 적용된 이미지를 사용자가 지정한 경로(output_path)에 저장\n",
        "\n",
        "# 사용자 입력과 프로그램 실행 #\n",
        "def main():\n",
        "    author_name = input(\"저작권자명을 입력해주세요: \")\n",
        "    image_path = input(\"대상 이미지 파일 경로를 입력해주세요: \")\n",
        "    output_path = input(\"워터마크가 적용된 이미지를 저장할 경로를 입력해주세요(확장자 포함): \")\n",
        "    embed_watermark(author_name, image_path, output_path)\n",
        "    print(\"워터마크 적용이 완료되었습니다.\")\n",
        "\n",
        "if __name__ == \"__main__\":\n",
        "    main()\n"
      ]
    }
  ],
  "metadata": {
    "colab": {
      "machine_shape": "hm",
      "provenance": [],
      "authorship_tag": "ABX9TyN7Q4T9jxEpdx6YV5jH1SUW"
    },
    "kernelspec": {
      "display_name": "Python 3",
      "name": "python3"
    },
    "language_info": {
      "name": "python"
    }
  },
  "nbformat": 4,
  "nbformat_minor": 0
}